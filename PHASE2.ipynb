import pandas as pd
import numpy as np
from sklearn.model_selection import GridSearchCV, cross_val_score, learning_curve
from sklearn.preprocessing import StandardScaler, OneHotEncoder
from sklearn.compose import ColumnTransformer
from sklearn.pipeline import Pipeline
from sklearn.ensemble import RandomForestRegressor
from sklearn.linear_model import LinearRegression, Ridge, Lasso
from xgboost import XGBRegressor
import joblib

# Step 1: Data Collection
data = pd.read_csv('/content/ride_requests_synthetic.csv')

# Step 2: Data Preprocessing
data = data.dropna()
X = data.drop(columns=['ride_requests'])
y = data['ride_requests']

# Ensure features are correctly classified as numeric or categorical
numeric_features = ['hour', 'temperature', 'humidity']
categorical_features = ['day_of_week', 'month', 'weather_condition', 'holiday']

# Defining the column transformer for preprocessing
numeric_transformer = Pipeline(steps=[
    ('scaler', StandardScaler())
])

categorical_transformer = Pipeline(steps=[
    ('onehot', OneHotEncoder(handle_unknown='ignore'))
])

preprocessor = ColumnTransformer(
    transformers=[
        ('num', numeric_transformer, numeric_features),
        ('cat', categorical_transformer, categorical_features)
    ])

# Define models
models = {
    'LinearRegression': LinearRegression(),
    'XGBRegressor': XGBRegressor(),
    'Lasso': Lasso(),
    'RandomForestRegressor': RandomForestRegressor(),
    'Ridge': Ridge()
}

# Hyperparameter tuning for RandomForestRegressor
param_grid_rf = {
    'regressor__n_estimators': [100, 200],
    'regressor__max_depth': [None, 10, 20],
}
grid_search_rf = GridSearchCV(Pipeline(steps=[
    ('preprocessor', preprocessor),
    ('regressor', RandomForestRegressor())
]), param_grid_rf, cv=5, scoring='neg_mean_squared_error')
grid_search_rf.fit(X, y)
best_rf_model = grid_search_rf.best_estimator_

# Hyperparameter tuning for XGBRegressor
param_grid_xgb = {
    'regressor__n_estimators': [100, 200],
    'regressor__max_depth': [3, 6, 10],
}
grid_search_xgb = GridSearchCV(Pipeline(steps=[
    ('preprocessor', preprocessor),
    ('regressor', XGBRegressor())
]), param_grid_xgb, cv=5, scoring='neg_mean_squared_error')
grid_search_xgb.fit(X, y)
best_xgb_model = grid_search_xgb.best_estimator_

print("Best RandomForestRegressor RMSE:", np.sqrt(-grid_search_rf.best_score_))
print("Best XGBRegressor RMSE:", np.sqrt(-grid_search_xgb.best_score_))
